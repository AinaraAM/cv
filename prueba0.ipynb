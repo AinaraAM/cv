{
  "cells": [
    {
      "cell_type": "markdown",
      "metadata": {
        "id": "view-in-github",
        "colab_type": "text"
      },
      "source": [
        "<a href=\"https://colab.research.google.com/github/AinaraAM/practicas/blob/main/prueba0.ipynb\" target=\"_parent\"><img src=\"https://colab.research.google.com/assets/colab-badge.svg\" alt=\"Open In Colab\"/></a>"
      ]
    },
    {
      "cell_type": "code",
      "execution_count": null,
      "metadata": {
        "colab": {
          "base_uri": "https://localhost:8080/"
        },
        "id": "uZ0JXl1HkWD5",
        "outputId": "894dff6d-8edc-4eb1-edb7-05828129c56c"
      },
      "outputs": [
        {
          "name": "stdout",
          "output_type": "stream",
          "text": [
            "Hola Mundo\n"
          ]
        }
      ],
      "source": [
        "print(\"Hola Mundo\")"
      ]
    },
    {
      "cell_type": "code",
      "execution_count": null,
      "metadata": {
        "id": "TT3ukcZJkvar"
      },
      "outputs": [],
      "source": [
        "#Este es un comentario\n"
      ]
    },
    {
      "cell_type": "markdown",
      "source": [
        "**1-Mostrar por pantalla la suma de dos números**"
      ],
      "metadata": {
        "id": "wcZC8wsLzYJ-"
      }
    },
    {
      "cell_type": "code",
      "execution_count": 19,
      "metadata": {
        "colab": {
          "base_uri": "https://localhost:8080/"
        },
        "id": "4FdMNphHlegd",
        "outputId": "b951c536-89e3-4faa-d01c-d9a8a7fcbe7b"
      },
      "outputs": [
        {
          "name": "stdout",
          "output_type": "stream",
          "text": [
            "ingrese primer número: 0.5\n"
          ]
        }
      ],
      "source": [
        "numero1 = float(input(\"ingrese primer número: \"))"
      ]
    },
    {
      "cell_type": "code",
      "execution_count": 21,
      "metadata": {
        "colab": {
          "base_uri": "https://localhost:8080/"
        },
        "id": "pq8BCXVFlvDp",
        "outputId": "572e9d65-546d-4f44-e25b-fbc41efbb60e"
      },
      "outputs": [
        {
          "name": "stdout",
          "output_type": "stream",
          "text": [
            "ingrese primer número: 0.5\n"
          ]
        }
      ],
      "source": [
        "numero2 = float(input(\"ingrese primer número: \"))"
      ]
    },
    {
      "cell_type": "code",
      "source": [
        "total= numero1 + numero2\n",
        "total\n",
        "print (total)"
      ],
      "metadata": {
        "colab": {
          "base_uri": "https://localhost:8080/"
        },
        "id": "y4trwEnwyJzj",
        "outputId": "22bee4cc-0236-48ca-8e5b-1f0386cc3a38"
      },
      "execution_count": 22,
      "outputs": [
        {
          "output_type": "stream",
          "name": "stdout",
          "text": [
            "1.0\n"
          ]
        }
      ]
    },
    {
      "cell_type": "code",
      "execution_count": null,
      "metadata": {
        "id": "NqZWMoKKlWWv"
      },
      "outputs": [],
      "source": [
        ""
      ]
    }
  ],
  "metadata": {
    "colab": {
      "name": "prueba0.ipynb",
      "provenance": [],
      "authorship_tag": "ABX9TyMZz1wYPTM8OTge9jcwCifl",
      "include_colab_link": true
    },
    "kernelspec": {
      "display_name": "Python 3",
      "name": "python3"
    },
    "language_info": {
      "name": "python"
    }
  },
  "nbformat": 4,
  "nbformat_minor": 0
}